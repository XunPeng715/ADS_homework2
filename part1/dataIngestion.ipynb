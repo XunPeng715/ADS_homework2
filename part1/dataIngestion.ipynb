{
 "cells": [
  {
   "cell_type": "code",
   "execution_count": 55,
   "metadata": {
    "collapsed": true
   },
   "outputs": [],
   "source": [
    "import json\n",
    "import fnmatch\n",
    "import logging\n",
    "import time\n",
    "\n",
    "json_data = open(\"config.json\")\n",
    "j_obj = json.load(json_data)\n",
    "\n",
    "AWSAccess = j_obj['AWSAccess']\n",
    "AWSSecret = j_obj['AWSSecret']"
   ]
  },
  {
   "cell_type": "code",
   "execution_count": 56,
   "metadata": {
    "collapsed": true
   },
   "outputs": [],
   "source": [
    "logger = logging.getLogger(__name__)\n",
    "logger.setLevel(logging.INFO)\n",
    "\n",
    "logfile = time.strftime(\"%Y-%m-%d_%H:%M:%S\" + \".log\")\n",
    "\n",
    "# create a file handler\n",
    "handler = logging.FileHandler(logfile)\n",
    "handler.setLevel(logging.INFO)\n",
    "# create a logging format\n",
    "formatter = logging.Formatter('%(asctime)s - %(name)s - %(levelname)s - %(message)s')\n",
    "handler.setFormatter(formatter)\n",
    "# add the handlers to the logger\n",
    "logger.addHandler(handler)\n",
    "\n",
    "logger.info('Hello!!!!')"
   ]
  },
  {
   "cell_type": "code",
   "execution_count": 57,
   "metadata": {},
   "outputs": [
    {
     "data": {
      "text/plain": [
       "{'Location': '/ZillowDataBucket',\n",
       " 'ResponseMetadata': {'HTTPHeaders': {'content-length': '0',\n",
       "   'date': 'Wed, 05 Jul 2017 15:36:54 GMT',\n",
       "   'location': '/ZillowDataBucket',\n",
       "   'server': 'AmazonS3',\n",
       "   'x-amz-id-2': 'rflSlOAiBA/e9eDB7g1ggMdtIoHONdN/KcK+9ALO+n16jb/ORX9vH8WJpoDJrsepfKERf0M4+OQ=',\n",
       "   'x-amz-request-id': 'C1952540905078DA'},\n",
       "  'HTTPStatusCode': 200,\n",
       "  'HostId': 'rflSlOAiBA/e9eDB7g1ggMdtIoHONdN/KcK+9ALO+n16jb/ORX9vH8WJpoDJrsepfKERf0M4+OQ=',\n",
       "  'RequestId': 'C1952540905078DA',\n",
       "  'RetryAttempts': 0}}"
      ]
     },
     "execution_count": 57,
     "metadata": {},
     "output_type": "execute_result"
    }
   ],
   "source": [
    "# Check the bucket was created or not\n",
    "import urllib3\n",
    "import boto3\n",
    "import botocore\n",
    "\n",
    "client = boto3.client('s3',\n",
    "                      aws_access_key_id=AWSAccess, \n",
    "                      aws_secret_access_key=AWSSecret)\n",
    "s3 = boto3.resource('s3',\n",
    "                   aws_access_key_id=AWSAccess, \n",
    "                      aws_secret_access_key=AWSSecret)\n",
    "\n",
    "BucketName = 'ZillowDataBucket'\n",
    "bucket = s3.Bucket(BucketName)\n",
    "# exists = True\n",
    "# try:\n",
    "#     s3.meta.client.head_bucket(Bucket=BucketName)\n",
    "# except botocore.exceptions.ClientError as e:\n",
    "#     error_code = int(e.response['Error']['Code'])\n",
    "#     if error_code == 403:\n",
    "#         logger.info(BucketName + \" does not exist!\")\n",
    "#         exists = False\n",
    "#     else:\n",
    "#         logger.info(BucketName + \" exists!\")\n",
    "# print(exists)\n",
    "# if exists == False:\n",
    "#     logger.info(\"Creating \" + BucketName)\n",
    "client.create_bucket(Bucket=BucketName)"
   ]
  },
  {
   "cell_type": "code",
   "execution_count": 58,
   "metadata": {},
   "outputs": [
    {
     "name": "stdout",
     "output_type": "stream",
     "text": [
      "False\n"
     ]
    }
   ],
   "source": [
    "# check the file was in bucket or not\n",
    "flag = False\n",
    "filename = 'data.csv'\n",
    "bucket = s3.Bucket(BucketName)\n",
    "for obj in bucket.objects.all():\n",
    "    if fnmatch.fnmatch(obj.key, 'data.csv'):\n",
    "        logger.info(filename + ' already exists!')\n",
    "        flag = True\n",
    "        \n",
    "print(flag)       \n",
    "if flag == False:\n",
    "    logger.info(filename + ' does not exists!')\n",
    "    logger.info('Uploading file!')\n",
    "    s3.meta.client.upload_file(filename, BucketName, filename)\n",
    "elif flag == True:\n",
    "    print(filename + 'is existing!')"
   ]
  },
  {
   "cell_type": "code",
   "execution_count": null,
   "metadata": {
    "collapsed": true
   },
   "outputs": [],
   "source": []
  }
 ],
 "metadata": {
  "kernelspec": {
   "display_name": "Python 3",
   "language": "python",
   "name": "python3"
  },
  "language_info": {
   "codemirror_mode": {
    "name": "ipython",
    "version": 3
   },
   "file_extension": ".py",
   "mimetype": "text/x-python",
   "name": "python",
   "nbconvert_exporter": "python",
   "pygments_lexer": "ipython3",
   "version": "3.6.1"
  }
 },
 "nbformat": 4,
 "nbformat_minor": 2
}
