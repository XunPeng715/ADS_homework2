{
 "cells": [
  {
   "cell_type": "code",
   "execution_count": null,
   "metadata": {
    "collapsed": true
   },
   "outputs": [],
   "source": [
    "Search algorithm was implemented in GeospartialSearch3.py, the time complexity of this algorithm is O(n)\n",
    "Belong is the idea of this algorithm:\n"
   ]
  },
  {
   "cell_type": "code",
   "execution_count": null,
   "metadata": {
    "collapsed": true
   },
   "outputs": [],
   "source": [
    "1.\tWe deal with those locations as objects(class), each object has 4 attributes (parchlid, longitude, latitude, distance).\n",
    "\n",
    "2.\tI created a list with capacity 10. And we keep this list sorted over time.\n",
    "\n",
    "3.\tWe just add the location to list when its size was smaller than 10 and then sort list.\n",
    "\n",
    "4.\tWe need to throw the last location in list if the new location is closer then then last one and then add this new location to this list and then sort the list\n",
    "\n",
    "5.\tWe do not have to do anything if location is far then the last location in the list\n"
   ]
  }
 ],
 "metadata": {
  "kernelspec": {
   "display_name": "Python 3",
   "language": "python",
   "name": "python3"
  },
  "language_info": {
   "codemirror_mode": {
    "name": "ipython",
    "version": 3
   },
   "file_extension": ".py",
   "mimetype": "text/x-python",
   "name": "python",
   "nbconvert_exporter": "python",
   "pygments_lexer": "ipython3",
   "version": "3.6.1"
  }
 },
 "nbformat": 4,
 "nbformat_minor": 2
}
