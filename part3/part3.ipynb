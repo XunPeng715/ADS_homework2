{
 "cells": [
  {
   "cell_type": "code",
   "execution_count": null,
   "metadata": {
    "collapsed": true
   },
   "outputs": [],
   "source": [
    "1.\tInstall apache webserver and mod-wsgi:\n",
    "            sudo apt-get install apache2\n",
    "            sudo apt-get install libapache2-mod-wsgi\n",
    "    \n",
    "2.\tInstall flask using pip tool\n",
    "            sudo pip install flask\n",
    "    \n",
    "3.\tCreate a director for our flask app.\n",
    "            mkdir ~/flaskapp\n",
    "            sudo ln –sT ~/flaskapp /var/www/html/flaskapp\n",
    "    \n",
    "4.\tWe can create app named flaskapp.py. \n",
    "            This application will handle all the url that visited from client.\n",
    "\n",
    "5.\tVisit http://35.167.59.55/ you will get to the default index interface.\n",
    "        http://35.167.59.55/location url will return you form about longitude \n",
    "        and latitude, and number of closest locations you want to return. \n",
    "        And click submit button it will return a table with these number of closest locations \n",
    "        and time the application spent on search. http://35.167.59.55/d3 will \n",
    "        return a EDA graph through d3.js\n"
   ]
  }
 ],
 "metadata": {
  "kernelspec": {
   "display_name": "Python 3",
   "language": "python",
   "name": "python3"
  },
  "language_info": {
   "codemirror_mode": {
    "name": "ipython",
    "version": 3
   },
   "file_extension": ".py",
   "mimetype": "text/x-python",
   "name": "python",
   "nbconvert_exporter": "python",
   "pygments_lexer": "ipython3",
   "version": "3.6.1"
  }
 },
 "nbformat": 4,
 "nbformat_minor": 2
}
